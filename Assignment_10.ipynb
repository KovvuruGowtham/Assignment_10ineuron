{
 "cells": [
  {
   "cell_type": "raw",
   "id": "b8b2dfa4-b07f-49f0-b178-7235430179e4",
   "metadata": {},
   "source": [
    "1. How do you distinguish between shutil.copy() and shutil.copytree()?"
   ]
  },
  {
   "cell_type": "raw",
   "id": "841b72c1-412e-4151-a55a-e50b915f1d8c",
   "metadata": {},
   "source": [
    "\n",
    "The shutil.copy() and shutil.copytree() functions in Python's shutil module are used for copying files and directories, respectively. Here's how they differ:\n",
    "\n",
    "shutil.copy(src, dst) is used for copying a single file from the source path src to the destination path dst. The src argument must be the path to an existing file, while the dst argument must be the path to a directory or a new file name. If dst is a directory, the new file will be created with the same name as the original file. If dst is a file name, the new file will have that name.\n",
    "\n",
    "shutil.copytree(src, dst) is used for recursively copying a directory tree from the source path src to the destination path dst. The src argument must be the path to an existing directory, while the dst argument must be the path to a new directory that will be created to contain the copied files. The entire directory tree at src, including all files and subdirectories, will be copied to dst.   "
   ]
  },
  {
   "cell_type": "raw",
   "id": "9269f159-9b53-4337-b556-fa988e01ebe1",
   "metadata": {},
   "source": [
    "2. What function is used to rename files??"
   ]
  },
  {
   "cell_type": "raw",
   "id": "67fd7e48-1884-42f1-99fc-32934dc0fb32",
   "metadata": {},
   "source": [
    "Ans: The rename function from os module can be used to rename files as in the code snippet below"
   ]
  },
  {
   "cell_type": "code",
   "execution_count": 30,
   "id": "96ef1ad9-2502-454e-b309-fbb16af50362",
   "metadata": {},
   "outputs": [],
   "source": [
    "import os\n",
    "os.rename('Assignment_10.ipynb','Assignment_11.ipynb')"
   ]
  },
  {
   "cell_type": "raw",
   "id": "a099202c-edc1-4b32-b195-b56c4d26ebcd",
   "metadata": {},
   "source": [
    "3. What is the difference between the delete functions in the send2trash and shutil modules?"
   ]
  },
  {
   "cell_type": "raw",
   "id": "9d3eba62-d1a5-4077-9f8f-ad1ce6148eb5",
   "metadata": {},
   "source": [
    "The send2trash and shutil modules provide functions for deleting files and directories, but there are some key differences between the two.\n",
    "\n",
    "The send2trash module provides a send2trash() function that moves files or directories to the system trash or recycle bin, depending on the operating system. This means that the deleted files or directories can usually be restored from the trash or recycle bin if needed. The send2trash() function is a safer option than permanently deleting files, especially if you're not sure whether you will need the files in the future.\n",
    "\n",
    "The shutil module provides a rmtree() function that permanently deletes a directory and its contents. This function does not move the files to the system trash or recycle bin, so they cannot be easily restored once they are deleted."
   ]
  },
  {
   "cell_type": "raw",
   "id": "f6bb93b5-3d31-4982-875c-2c65fb52acd0",
   "metadata": {},
   "source": [
    "4.ZipFile objects have a close() method just like File objects’ close() method. What ZipFile method is\n",
    "equivalent to File objects’ open() method?"
   ]
  },
  {
   "cell_type": "raw",
   "id": "bd339464-450d-491b-9c1d-297f4ce48975",
   "metadata": {},
   "source": [
    "Ans: The zipfile.ZipFile() function is equivalent to the open() function; the first argument is the filename, and the second argument is the mode to open the ZIP file in read, write, or append modes."
   ]
  },
  {
   "cell_type": "raw",
   "id": "fe2ff46f-b365-4afb-b4b9-91f01977fd0c",
   "metadata": {},
   "source": [
    "5. Create a programme that searches a folder tree for files with a certain file extension (such as .pdf\n",
    "or .jpg). Copy these files from whatever location they are in to a new folder."
   ]
  },
  {
   "cell_type": "code",
   "execution_count": null,
   "id": "ff5cb39b-86fa-45d0-b4a1-745ee3ef190f",
   "metadata": {},
   "outputs": [],
   "source": [
    "import os\n",
    "import shutil\n",
    "\n",
    "# Set the source folder path and the destination folder path\n",
    "src_folder = \"/path/to/source/folder\"\n",
    "dest_folder = \"/path/to/destination/folder\"\n",
    "\n",
    "# Set the file extension to search for\n",
    "file_extension = \".pdf\"\n",
    "\n",
    "# Walk through the folder tree and copy files with the specified file extension\n",
    "for foldername, subfolders, filenames in os.walk(src_folder):\n",
    "    for filename in filenames:\n",
    "        if filename.endswith(file_extension):\n",
    "            file_path = os.path.join(foldername, filename)\n",
    "            shutil.copy(file_path, dest_folder)"
   ]
  },
  {
   "cell_type": "raw",
   "id": "37391951-b162-4f35-bc6d-fc03616bdfbe",
   "metadata": {},
   "source": []
  },
  {
   "cell_type": "raw",
   "id": "2f64c5b5-1110-4cde-9a2c-c59edec6f160",
   "metadata": {},
   "source": [
    "\n",
    "\n",
    "\n",
    "\n",
    "\n",
    "\n",
    "\n"
   ]
  }
 ],
 "metadata": {
  "kernelspec": {
   "display_name": "Python 3 (ipykernel)",
   "language": "python",
   "name": "python3"
  },
  "language_info": {
   "codemirror_mode": {
    "name": "ipython",
    "version": 3
   },
   "file_extension": ".py",
   "mimetype": "text/x-python",
   "name": "python",
   "nbconvert_exporter": "python",
   "pygments_lexer": "ipython3",
   "version": "3.10.6"
  }
 },
 "nbformat": 4,
 "nbformat_minor": 5
}
